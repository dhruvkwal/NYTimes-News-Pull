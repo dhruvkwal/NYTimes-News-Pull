{
 "cells": [
  {
   "cell_type": "code",
   "execution_count": 162,
   "metadata": {},
   "outputs": [
    {
     "name": "stdout",
     "output_type": "stream",
     "text": [
      "102842\n"
     ]
    }
   ],
   "source": [
    "#importing modules\n",
    "import pandas as pd\n",
    "import numpy as np\n",
    "import json\n",
    "from urllib.request import urlopen as uReq\n",
    "import ssl\n",
    "\n",
    "#defining lists\n",
    "desc=[]\n",
    "urldata=[]\n",
    "datepub=[]\n",
    "src=[]\n",
    "author=[]\n",
    "headline=[]\n",
    "\n",
    "#date list for news pull\n",
    "datelist=['2016/11','2016/12','2017/1','2017/2','2017/3','2017/4','2017/5','2017/6','2017/7','2017/8','2017/9','2017/10','2017/11','2017/12','2018/1','2018/2','2018/3','2018/4','2018/5','2018/6','2018/7']\n",
    "\n",
    "#news pull from api in json\n",
    "for d in datelist:\n",
    "    ssl._create_default_https_context = ssl._create_unverified_context\n",
    "    url = \"http://api.nytimes.com/svc/archive/v1/\"+d+\".json?api-key=<API KEY HERE>\"\n",
    "    data = json.load(uReq(url))\n",
    "    \n",
    "    #extracting data from json file\n",
    "    for item in (data[\"response\"][\"docs\"]):\n",
    "            headline.append(str(item['headline']['main']))\n",
    "            author.append(str(item['headline']))\n",
    "            desc.append(str(item['snippet']))\n",
    "            urldata.append(str(item['web_url']))\n",
    "            datepub.append(str(item['pub_date'][:10]))\n",
    "\n",
    "#creating a dataframe with the extracted data            \n",
    "dataset = pd.DataFrame(\n",
    "    {'Date': datepub,\n",
    "     'Description': desc,\n",
    "     'Headline': headline,\n",
    "     'URL': urldata,\n",
    "    })\n",
    "\n",
    "df= dataset[['Date',\n",
    "             'Description',\n",
    "             'Headline', \n",
    "             'URL'\n",
    "            ]\n",
    "            ]\n",
    "\n",
    "\n",
    "##print(len(df))\n",
    "\n",
    "#saving as csv\n",
    "df.to_csv('outputnytimes.csv')\n",
    "df_new=df\n",
    "\n",
    "#splitting the description into world list\n",
    "df_new['Description'] = df_new['Description'].astype(str).str.split()\n",
    "#print(len(df_new))\n",
    "#print(df)\n",
    "\n",
    "\n",
    "df_new.to_csv('outputnytimesdata.csv')"
   ]
  },
  {
   "cell_type": "code",
   "execution_count": 167,
   "metadata": {
    "collapsed": true
   },
   "outputs": [],
   "source": [
    "#sorting by date\n",
    "dfnew=df.sort_values(by='Date')\n",
    "dfnew.to_csv('opnytimesdata.csv')"
   ]
  },
  {
   "cell_type": "code",
   "execution_count": 168,
   "metadata": {
    "collapsed": true
   },
   "outputs": [],
   "source": [
    "#splitting headline into individual word list\n",
    "df_new['Headline'] = df_new['Headline'].astype(str).str.split()"
   ]
  },
  {
   "cell_type": "code",
   "execution_count": 169,
   "metadata": {
    "collapsed": true
   },
   "outputs": [],
   "source": [
    "#creating a list of unique dates\n",
    "uniquedates=np.unique(datepub)\n",
    "#print(uniquedates)\n",
    "udates = pd.DataFrame(\n",
    "    {'Date': uniquedates,\n",
    "    })\n",
    "\n",
    "udf= udates[['Date'\n",
    "            ]\n",
    "            ]\n",
    "\n",
    "udf.to_csv('udates.csv')"
   ]
  },
  {
   "cell_type": "code",
   "execution_count": 170,
   "metadata": {
    "collapsed": true
   },
   "outputs": [],
   "source": [
    "#appending \n",
    "fd=[]\n",
    "i=0\n",
    "length=len(dfnew)\n",
    "for ds in uniquedates:\n",
    "    descrip=[]\n",
    "    for i in range (i,length):\n",
    "        if dfnew.iloc[i,0]==ds:\n",
    "            descrip += dfnew.iloc[i,1]+dfnew.iloc[i,2]\n",
    "            i+=1\n",
    "            #print(i)\n",
    "        else:\n",
    "            #print(\"this is last\",i)\n",
    "            break\n",
    "    #print(ds)\n",
    "    fd.append(descrip)\n",
    "    #print(descrip)\n",
    "\n",
    "dataset1 = pd.DataFrame(\n",
    "    {'Date': uniquedates,\n",
    "     'Description': fd,\n",
    "    })\n",
    "\n",
    "fdf= dataset1[['Date',\n",
    "             'Description',\n",
    "            ]\n",
    "            ]       \n",
    "fdf\n",
    "fdf.to_csv('finaldataset.csv')"
   ]
  },
  {
   "cell_type": "code",
   "execution_count": 171,
   "metadata": {
    "collapsed": true
   },
   "outputs": [],
   "source": [
    "train = pd.read_csv('finaldataset.csv')"
   ]
  },
  {
   "cell_type": "code",
   "execution_count": 172,
   "metadata": {},
   "outputs": [
    {
     "data": {
      "text/html": [
       "<div>\n",
       "<style>\n",
       "    .dataframe thead tr:only-child th {\n",
       "        text-align: right;\n",
       "    }\n",
       "\n",
       "    .dataframe thead th {\n",
       "        text-align: left;\n",
       "    }\n",
       "\n",
       "    .dataframe tbody tr th {\n",
       "        vertical-align: top;\n",
       "    }\n",
       "</style>\n",
       "<table border=\"1\" class=\"dataframe\">\n",
       "  <thead>\n",
       "    <tr style=\"text-align: right;\">\n",
       "      <th></th>\n",
       "      <th>Description</th>\n",
       "      <th>og_word_count</th>\n",
       "    </tr>\n",
       "  </thead>\n",
       "  <tbody>\n",
       "    <tr>\n",
       "      <th>0</th>\n",
       "      <td>['Investigators', 'looking', 'into', 'corrupti...</td>\n",
       "      <td>6152</td>\n",
       "    </tr>\n",
       "    <tr>\n",
       "      <th>1</th>\n",
       "      <td>['When', 'the', 'star', 'of', 'the', 'ABC', 'c...</td>\n",
       "      <td>6270</td>\n",
       "    </tr>\n",
       "    <tr>\n",
       "      <th>2</th>\n",
       "      <td>['The', 'British', 'government', 'must', 'cons...</td>\n",
       "      <td>7642</td>\n",
       "    </tr>\n",
       "    <tr>\n",
       "      <th>3</th>\n",
       "      <td>['The', 'idea', 'that', 'we', 'can', 'solve', ...</td>\n",
       "      <td>7732</td>\n",
       "    </tr>\n",
       "    <tr>\n",
       "      <th>4</th>\n",
       "      <td>['Donald', 'J.', 'Trump', 'encourages', 'his',...</td>\n",
       "      <td>3650</td>\n",
       "    </tr>\n",
       "  </tbody>\n",
       "</table>\n",
       "</div>"
      ],
      "text/plain": [
       "                                         Description  og_word_count\n",
       "0  ['Investigators', 'looking', 'into', 'corrupti...           6152\n",
       "1  ['When', 'the', 'star', 'of', 'the', 'ABC', 'c...           6270\n",
       "2  ['The', 'British', 'government', 'must', 'cons...           7642\n",
       "3  ['The', 'idea', 'that', 'we', 'can', 'solve', ...           7732\n",
       "4  ['Donald', 'J.', 'Trump', 'encourages', 'his',...           3650"
      ]
     },
     "execution_count": 172,
     "metadata": {},
     "output_type": "execute_result"
    }
   ],
   "source": [
    "#splitting into words\n",
    "train['og_word_count'] = train['Description'].apply(lambda x: len(str(x).split(\" \")))\n",
    "train[['Description','og_word_count']].head()"
   ]
  },
  {
   "cell_type": "code",
   "execution_count": 173,
   "metadata": {},
   "outputs": [
    {
     "data": {
      "text/plain": [
       "0    ['investigators', 'looking', 'into', 'corrupti...\n",
       "1    ['when', 'the', 'star', 'of', 'the', 'abc', 'c...\n",
       "2    ['the', 'british', 'government', 'must', 'cons...\n",
       "3    ['the', 'idea', 'that', 'we', 'can', 'solve', ...\n",
       "4    ['donald', 'j.', 'trump', 'encourages', 'his',...\n",
       "Name: Description, dtype: object"
      ]
     },
     "execution_count": 173,
     "metadata": {},
     "output_type": "execute_result"
    }
   ],
   "source": [
    "train['Description'] = train['Description'].str.lower()\n",
    "train['Description'].head()"
   ]
  },
  {
   "cell_type": "code",
   "execution_count": 174,
   "metadata": {
    "scrolled": true
   },
   "outputs": [
    {
     "data": {
      "text/plain": [
       "0    investigators looking into corruption within t...\n",
       "1    when the star of the abc comedy series dr ken ...\n",
       "2    the british government must consult parliament...\n",
       "3    the idea that we can solve problems by buildin...\n",
       "4    donald j trump encourages his supporters to he...\n",
       "Name: Description, dtype: object"
      ]
     },
     "execution_count": 174,
     "metadata": {},
     "output_type": "execute_result"
    }
   ],
   "source": [
    "#removing all the \n",
    "train['Description'] = train['Description'].str.replace('[^\\w\\s]','')\n",
    "train['Description'].head()"
   ]
  },
  {
   "cell_type": "code",
   "execution_count": 175,
   "metadata": {},
   "outputs": [
    {
     "data": {
      "text/plain": [
       "0    investigators looking corruption within montre...\n",
       "1    star abc comedy series dr ken takes trip alway...\n",
       "2    british government must consult parliament pro...\n",
       "3    idea solve problems building physical barriers...\n",
       "4    donald j trump encourages supporters heckle jo...\n",
       "Name: Description, dtype: object"
      ]
     },
     "execution_count": 175,
     "metadata": {},
     "output_type": "execute_result"
    }
   ],
   "source": [
    "#removing the stopwords\n",
    "from nltk.corpus import stopwords\n",
    "stop = stopwords.words('english')\n",
    "\n",
    "train['Description'] = train['Description'].apply(lambda x: \" \".join(x for x in x.split() if x not in stop))\n",
    "train['Description'].head()"
   ]
  },
  {
   "cell_type": "code",
   "execution_count": 183,
   "metadata": {
    "collapsed": true,
    "scrolled": true
   },
   "outputs": [],
   "source": [
    "#saving the final dataset\n",
    "train['word_count_stem'] = train['Description'].apply(lambda x: len(str(x).split(\" \")))\n",
    "train[['Description','word_count_stem']].head()\n",
    "train[['Date', 'Description']].to_csv('ProjectData.csv',index=False)"
   ]
  }
 ],
 "metadata": {
  "kernelspec": {
   "display_name": "Python 3",
   "language": "python",
   "name": "python3"
  },
  "language_info": {
   "codemirror_mode": {
    "name": "ipython",
    "version": 3
   },
   "file_extension": ".py",
   "mimetype": "text/x-python",
   "name": "python",
   "nbconvert_exporter": "python",
   "pygments_lexer": "ipython3",
   "version": "3.6.3"
  }
 },
 "nbformat": 4,
 "nbformat_minor": 2
}
